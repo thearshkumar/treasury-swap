{
 "cells": [
  {
   "cell_type": "markdown",
   "metadata": {},
   "source": [
    "# Recreating the Treasury Swap Arbitrage Analysis from \"Segmented Arbitrage\"\n",
    "\n",
    "This notebook breifly summarises our process of recreating the Treasury-Swap arbitrage spread plot from the Siriwardane, Sunderam, and Wallen (2023) paper \"Segmented Arbitrage.\"\n",
    "\n"
   ]
  },
  {
   "cell_type": "markdown",
   "metadata": {},
   "source": [
    "## Treasury Swap Arbitrage Concept"
   ]
  },
  {
   "cell_type": "markdown",
   "metadata": {},
   "source": [
    "Treasury Swap arbitrage measures the difference between the fixed rate on overnight indexed swaps (OIS) and Treasury yields of matching maturities. This spread captures violations of the law of one price in fixed income markets. As the paper shows, these arbitrage opportunities persist due to funding and balance sheet segmentation among financial intermediaries."
   ]
  },
  {
   "cell_type": "markdown",
   "metadata": {},
   "source": [
    "The core logic of this arbitrage opportunity is that when the treasury yield and the swap rates are the same at identical tenors, holding the treasury on a repo super replicates receiving fixed in the swap. This is because the securitized floating repo rate is assumed to be less than the floating rate paid in a swap. Hence, if one were to hold a treasury on repo and pay fixed in a swap when the treasury yields exceeded the swap rates, they would be receiving a higher fixed rate than they are paying, and would receive a higher floating rate than they are paying also, implying an arbitrage."
   ]
  },
  {
   "cell_type": "markdown",
   "metadata": {},
   "source": [
    "### Data Collection from Bloomberg"
   ]
  },
  {
   "cell_type": "markdown",
   "metadata": {},
   "source": [
    "We first pull the required data from Bloomberg using xbbg and other libraries. We also perform a small preprocessing step."
   ]
  },
  {
   "cell_type": "code",
   "execution_count": null,
   "metadata": {},
   "outputs": [],
   "source": [
    "from pull_bloomberg import *\n",
    "\n",
    "raw_df_t = pull_raw_tyields()\n",
    "raw_df_s = pull_raw_syields()\n",
    "clean_df_t = clean_raw_tyields(raw_df_t)\n",
    "clean_df_s = clean_raw_syields(raw_df_s)"
   ]
  },
  {
   "cell_type": "markdown",
   "metadata": {},
   "source": [
    "### Calculating Arbitrage Spreads"
   ]
  },
  {
   "cell_type": "markdown",
   "metadata": {},
   "source": [
    "Now that we have the data, we calculate the arbitrage spread. The assumption here is that if this value goes negative, then this is an arb. We pay fixed in the swap agreement and receive the floating rate. Then, we purchase a treasury on repo, meaning that we are receiving the treasury rate and paying a floating repo rate. Thus, we get paid T_rate - Swap_rate + Swap_floating - Repo_Floating. Hence, this is not a true arbitrage unless you are guaranteed that you can secure 3mo treasury repos at a lower floating rate than you would receive in the swap (most likely SOFR)."
   ]
  },
  {
   "cell_type": "code",
   "execution_count": null,
   "metadata": {},
   "outputs": [],
   "source": [
    "from calc_swap_spreads import *\n",
    "\n",
    "calc_df = calc_swap_spreads(clean_df_t, clean_df_s)"
   ]
  },
  {
   "cell_type": "markdown",
   "metadata": {},
   "source": [
    "### Recreating the Paper's Plot"
   ]
  },
  {
   "cell_type": "markdown",
   "metadata": {},
   "source": [
    "Once we have the data, we use a simple plotting function to plot the data and save it in \"\\\\..\\\\_output\". This plot measures the arbitrage opportunity, as anywhere the series is negative, the treasury super replicates the swap."
   ]
  },
  {
   "cell_type": "code",
   "execution_count": null,
   "metadata": {},
   "outputs": [],
   "source": [
    "from settings import config\n",
    "from pathlib import Path\n",
    "from plot_figure import *\n",
    "\n",
    "output_dir = Path(config(\"OUTPUT_DIR\"))\n",
    "end_date = pd.Timestamp(config(\"END_DATE\")).date()\n",
    "\n",
    "plot_figure(calc_df, os.path.join(output_dir, 'replicated_swap_spread_arb_figure.png'), end_date)"
   ]
  },
  {
   "cell_type": "markdown",
   "metadata": {},
   "source": [
    "### Extending the Plot with Recent Data\n",
    "\n",
    "Ever since the paper's publishing, more data has been added to Bloomberg which can be used to extend the plot recreated."
   ]
  },
  {
   "cell_type": "code",
   "execution_count": null,
   "metadata": {},
   "outputs": [],
   "source": [
    "plot_figure(calc_df, os.path.join(output_dir, 'updated_swap_spread_arb_figure.png'))"
   ]
  },
  {
   "cell_type": "markdown",
   "metadata": {},
   "source": [
    "### Supplementary"
   ]
  },
  {
   "cell_type": "markdown",
   "metadata": {},
   "source": [
    "#### Plots"
   ]
  },
  {
   "cell_type": "markdown",
   "metadata": {},
   "source": [
    "We also generate a set of plots that shows the two rates over the extended period. In theory, since the treasury super replicates the swap, the treasury rate should be lower than the swap rate across these periods."
   ]
  },
  {
   "cell_type": "code",
   "execution_count": null,
   "metadata": {},
   "outputs": [],
   "source": [
    "replicated_df = supplementary_main()\n",
    "plot_supplementary(replicated_df, os.path.join(output_dir, 'replication_figure.png'))"
   ]
  },
  {
   "cell_type": "markdown",
   "metadata": {},
   "source": [
    "#### Table"
   ]
  },
  {
   "cell_type": "markdown",
   "metadata": {},
   "source": [
    "We generate a table the represents the average swap-treasury spread over the extended period. Again, negative values represent arbitrage opportunities."
   ]
  },
  {
   "cell_type": "code",
   "execution_count": null,
   "metadata": {},
   "outputs": [],
   "source": [
    "print(sup_table(replicated_df).to_markdown())"
   ]
  },
  {
   "cell_type": "markdown",
   "metadata": {},
   "source": [
    "## Conclusion\n",
    "\n",
    "This code has been able to approximately recreate the figure in the paper and also create an extended plot. We supplement these plots with a table of the means of the spreads, and a plot displaying how the curves(treasury and swap yields) follow each other for different treasury time periods."
   ]
  }
 ],
 "metadata": {
  "kernelspec": {
   "display_name": "finm",
   "language": "python",
   "name": "python3"
  },
  "language_info": {
   "codemirror_mode": {
    "name": "ipython",
    "version": 3
   },
   "file_extension": ".py",
   "mimetype": "text/x-python",
   "name": "python",
   "nbconvert_exporter": "python",
   "pygments_lexer": "ipython3",
   "version": "3.12.8"
  }
 },
 "nbformat": 4,
 "nbformat_minor": 2
}
